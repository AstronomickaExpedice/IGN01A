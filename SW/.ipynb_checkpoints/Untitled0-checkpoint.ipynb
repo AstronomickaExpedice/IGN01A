{
 "metadata": {
  "name": "",
  "signature": "sha256:f299d4cedf8a623202373ff86ce41da035aa162e94789e0f525ecf236b8d28c1"
 },
 "nbformat": 3,
 "nbformat_minor": 0,
 "worksheets": []
}